{
 "cells": [
  {
   "cell_type": "code",
   "execution_count": null,
   "id": "212c5432-d409-4a45-83c6-d118b287d203",
   "metadata": {
    "slideshow": {
     "slide_type": "slide"
    },
    "tags": []
   },
   "outputs": [],
   "source": [
    "# JUPYTER NOTEBOOK Magic function\n",
    "# Write the cell content to a file & execute the cell\n",
    "\n",
    "from IPython.core.magic import register_cell_magic\n",
    "\n",
    "\n",
    "@register_cell_magic\n",
    "def write_and_run(line, cell):\n",
    "    argz = line.split()\n",
    "    file = argz[-1]\n",
    "    mode = 'w'\n",
    "    if len(argz) == 2 and argz[0] == '-a':\n",
    "        mode = 'a'\n",
    "    with open(file, mode) as f:\n",
    "        f.write(cell)\n",
    "    get_ipython().run_cell(cell)"
   ]
  },
  {
   "cell_type": "code",
   "execution_count": null,
   "id": "f0059d5a-c1df-4ca0-8941-c60fdbd385c4",
   "metadata": {},
   "outputs": [],
   "source": [
    "%%time \n",
    "\n",
    "1 + 2"
   ]
  },
  {
   "cell_type": "code",
   "execution_count": null,
   "id": "8aff9e01-62a5-448e-97c6-eb9110113b7a",
   "metadata": {},
   "outputs": [],
   "source": [
    "! pip3 install tqdm\n",
    "\n",
    "# create a progress bar, that can give live updates of the progress of code"
   ]
  },
  {
   "cell_type": "code",
   "execution_count": null,
   "id": "2c384d78-b43c-422c-adf9-dede13b4e79f",
   "metadata": {},
   "outputs": [],
   "source": [
    "! pip3 install nb_black\n",
    "\n",
    "# Code formater \n",
    "\n",
    "%load_ext nb_black"
   ]
  },
  {
   "cell_type": "markdown",
   "id": "2221af2e-22f6-44ef-b23f-2692bc980001",
   "metadata": {},
   "source": [
    "## Write the name of the function you want to implement\n",
    "- Press Shift+Tab to view the documentation.\n",
    "- Click on ^ on the top right corner of documentation to view it in a pager.\n",
    "- Click on + to grow the docstring vertically.\n",
    "- Click on x to close the docstring"
   ]
  },
  {
   "cell_type": "markdown",
   "id": "28bb2300-c56d-4fd5-aa6a-853a6ec566f9",
   "metadata": {},
   "source": [
    "## IPython magic commands. Use IPython Magics with the name of your kernel at the start of each cell that you want to use that cell for:\n",
    "\n",
    "```\n",
    "%%bash\n",
    "%%HTML\n",
    "%%python2\n",
    "%%python3\n",
    "%%ruby\n",
    "%%perl\n",
    "\n",
    "```"
   ]
  },
  {
   "cell_type": "markdown",
   "id": "900adc02-d1dd-44e6-9191-ee29966a04d1",
   "metadata": {},
   "source": [
    "%%HTML\n",
    "\n",
    "<h1> Kenith </h1>\n",
    "<h2> K2A</h2>"
   ]
  },
  {
   "cell_type": "code",
   "execution_count": null,
   "id": "5a403bca-8c66-4e0e-9f28-0161fa3f919d",
   "metadata": {},
   "outputs": [],
   "source": [
    "\"\"\"\n",
    "Enter/Exit RISE Slideshow button appears in the notebook toolbar. \n",
    "\n",
    "A slideshow option will also appear under View>Cell Toolbar>Slideshow\n",
    "\n",
    "To prepare Slideshow click on View>Cell Toolbar>Slideshow and select the jupyter notebook cells for each slide.\n",
    "\n",
    "After selecting each slide click on the RISE Slideshow button in the notebook toolbar.\n",
    "\"\"\"\n",
    "\n",
    "! pip install RISE"
   ]
  },
  {
   "cell_type": "code",
   "execution_count": null,
   "id": "346d5aeb-f32d-4bb0-a142-c14aa935a2c6",
   "metadata": {},
   "outputs": [],
   "source": []
  },
  {
   "cell_type": "code",
   "execution_count": null,
   "id": "17916d99-63c0-4724-9bec-ced0d1727493",
   "metadata": {},
   "outputs": [],
   "source": []
  },
  {
   "cell_type": "code",
   "execution_count": null,
   "id": "7ddb8a30-8a0d-4d8a-9da8-215c30ab132d",
   "metadata": {},
   "outputs": [],
   "source": [
    "from IPython.core.interactiveshell import InteractiveShell\n",
    "InteractiveShell.ast_node_interactivity = \"all\""
   ]
  },
  {
   "cell_type": "code",
   "execution_count": null,
   "id": "47e77ec3-878e-4cab-a2dc-d138b59927ee",
   "metadata": {},
   "outputs": [],
   "source": [
    "%whos\n",
    "\n",
    "# returns the variables present in the global space along with its type"
   ]
  },
  {
   "cell_type": "code",
   "execution_count": null,
   "id": "6b77c911-ba06-4943-86d8-86a993cf1d9e",
   "metadata": {},
   "outputs": [],
   "source": [
    "%history \n",
    "\n",
    "# provides a list of all the commands given in the notebook."
   ]
  },
  {
   "cell_type": "markdown",
   "id": "8258d2f0-b750-4f48-922e-dc2e0a79ccf2",
   "metadata": {},
   "source": [
    "%prun – Run Python Profiler\n",
    "\n",
    "It provides you with the number of function calls and the execution time. Other information provided is:\n",
    "\n",
    "ncalls – number of calls\n",
    "tottime – The total time spent in the given function (excluding time made in calls to sub-functions)\n",
    "percall – the quotient of tottime divided by ncalls\n",
    "cumtime –  the total time spent in this and all subfunctions (from invocation till exit)\n",
    "percall – the quotient of cumtime divided by primitive calls"
   ]
  },
  {
   "cell_type": "code",
   "execution_count": null,
   "id": "e4d8cb4d-c476-48ce-99d1-7888073421e6",
   "metadata": {},
   "outputs": [],
   "source": [
    "%%heat\n",
    "\n",
    "class Ken():\n",
    "    def __init__(self):\n",
    "        a = 1\n",
    "        b = 3"
   ]
  },
  {
   "cell_type": "code",
   "execution_count": null,
   "id": "50818a6f-bd25-4b60-af5d-a1f38f7b1c48",
   "metadata": {},
   "outputs": [],
   "source": [
    "\"\"\"\n",
    "!pip install py-heat-magic\n",
    "To load the heat as a magic function in your notebook – %load_ext heat\n",
    "Use %%heat in your notebook cell for which you want to get the heatmap\n",
    "\"\"\"\n",
    "\n",
    "!pip install py-heat-magic\n",
    "\n",
    "%load_ext heat"
   ]
  },
  {
   "cell_type": "code",
   "execution_count": null,
   "id": "06544f5d-3f4a-45c3-a985-61943f1b6a12",
   "metadata": {},
   "outputs": [],
   "source": []
  }
 ],
 "metadata": {
  "kernelspec": {
   "display_name": "Python 3",
   "language": "python",
   "name": "python3"
  },
  "language_info": {
   "codemirror_mode": {
    "name": "ipython",
    "version": 3
   },
   "file_extension": ".py",
   "mimetype": "text/x-python",
   "name": "python",
   "nbconvert_exporter": "python",
   "pygments_lexer": "ipython3",
   "version": "3.8.2"
  }
 },
 "nbformat": 4,
 "nbformat_minor": 5
}
